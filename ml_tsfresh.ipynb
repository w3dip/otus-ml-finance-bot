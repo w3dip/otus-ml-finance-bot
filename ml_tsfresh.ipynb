{
 "cells": [
  {
   "metadata": {},
   "cell_type": "code",
   "outputs": [],
   "execution_count": null,
   "source": "from config import COMMON_CONFIG",
   "id": "7e7194306e9f909f"
  },
  {
   "metadata": {
    "ExecuteTime": {
     "end_time": "2025-01-26T12:58:55.050276Z",
     "start_time": "2025-01-26T12:58:51.593019Z"
    }
   },
   "cell_type": "code",
   "outputs": [],
   "execution_count": 4,
   "source": [
    "!pip install matplotlib -q\n",
    "import matplotlib.pyplot as plt\n",
    "\n",
    "import warnings\n",
    "warnings.filterwarnings(\"ignore\")\n",
    "\n",
    "!pip install pandas -q\n",
    "import pandas as pd\n",
    "# Хак чтобы работало на Anaconda под MacOs 10.15.7 Catalina\n",
    "pd.DataFrame.iteritems = pd.DataFrame.items"
   ],
   "id": "241cde3bcbb11549"
  },
  {
   "metadata": {
    "ExecuteTime": {
     "end_time": "2025-01-26T12:59:04.482939Z",
     "start_time": "2025-01-26T12:59:03.252702Z"
    }
   },
   "cell_type": "code",
   "source": [
    "#!pip install git+https://github.com/kernc/backtesting.py.git -q\n",
    "!pip install backtesting -q\n",
    "\n",
    "from backtesting import Strategy\n",
    "from backtesting_utils import run_backtest\n",
    "from backtesting_utils import convert_data_to_bt_format"
   ],
   "id": "b72b19ea5d1a3990",
   "outputs": [],
   "execution_count": 5
  },
  {
   "metadata": {
    "ExecuteTime": {
     "end_time": "2025-01-26T12:59:32.097601Z",
     "start_time": "2025-01-26T12:59:32.092308Z"
    }
   },
   "cell_type": "code",
   "source": [
    "import os\n",
    "os.environ['CUBLAS_WORKSPACE_CONFIG'] = ':4096:8'\n",
    "\n",
    "import random\n",
    "import numpy as np\n",
    "\n",
    "def seed_everything(seed: int = COMMON_CONFIG.SEED) -> None:\n",
    "    os.environ['PYTHONHASHSEED'] = str(seed)\n",
    "    random.seed(seed)\n",
    "    np.random.seed(seed)\n",
    "    print(f\"Using {seed} seed\")\n",
    "\n",
    "# Зафиксируем SEED\n",
    "seed_everything(COMMON_CONFIG.SEED)"
   ],
   "id": "8485da577d69e3ad",
   "outputs": [
    {
     "name": "stdout",
     "output_type": "stream",
     "text": [
      "Using 777 seed\n"
     ]
    }
   ],
   "execution_count": 6
  },
  {
   "metadata": {},
   "cell_type": "code",
   "outputs": [],
   "execution_count": null,
   "source": [
    "from file_utils import read_data_from_file\n",
    "\n",
    "df = read_data_from_file(COMMON_CONFIG.SYMBOL, COMMON_CONFIG.TIMEFRAME)\n",
    "df"
   ],
   "id": "fd653c6ad561280f"
  }
 ],
 "metadata": {
  "kernelspec": {
   "display_name": "Python 3",
   "language": "python",
   "name": "python3"
  },
  "language_info": {
   "codemirror_mode": {
    "name": "ipython",
    "version": 2
   },
   "file_extension": ".py",
   "mimetype": "text/x-python",
   "name": "python",
   "nbconvert_exporter": "python",
   "pygments_lexer": "ipython2",
   "version": "2.7.6"
  }
 },
 "nbformat": 4,
 "nbformat_minor": 5
}

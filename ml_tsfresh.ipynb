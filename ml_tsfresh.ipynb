{
 "cells": [
  {
   "metadata": {
    "ExecuteTime": {
     "end_time": "2025-01-26T13:17:03.182415Z",
     "start_time": "2025-01-26T13:17:03.165939Z"
    }
   },
   "cell_type": "code",
   "source": "from config import COMMON_CONFIG",
   "id": "7e7194306e9f909f",
   "outputs": [],
   "execution_count": 7
  },
  {
   "metadata": {
    "ExecuteTime": {
     "end_time": "2025-01-26T13:17:07.080156Z",
     "start_time": "2025-01-26T13:17:03.228181Z"
    }
   },
   "cell_type": "code",
   "source": [
    "!pip install matplotlib -q\n",
    "import matplotlib.pyplot as plt\n",
    "\n",
    "import warnings\n",
    "warnings.filterwarnings(\"ignore\")\n",
    "\n",
    "!pip install pandas -q\n",
    "import pandas as pd\n",
    "# Хак чтобы работало на Anaconda под MacOs 10.15.7 Catalina\n",
    "pd.DataFrame.iteritems = pd.DataFrame.items"
   ],
   "id": "241cde3bcbb11549",
   "outputs": [],
   "execution_count": 8
  },
  {
   "metadata": {
    "ExecuteTime": {
     "end_time": "2025-01-26T13:17:08.724505Z",
     "start_time": "2025-01-26T13:17:07.096320Z"
    }
   },
   "cell_type": "code",
   "source": [
    "#!pip install git+https://github.com/kernc/backtesting.py.git -q\n",
    "!pip install backtesting -q\n",
    "\n",
    "from backtesting import Strategy\n",
    "from backtesting_utils import run_backtest\n",
    "from backtesting_utils import convert_data_to_bt_format"
   ],
   "id": "b72b19ea5d1a3990",
   "outputs": [],
   "execution_count": 9
  },
  {
   "metadata": {
    "ExecuteTime": {
     "end_time": "2025-01-26T13:17:08.743356Z",
     "start_time": "2025-01-26T13:17:08.737027Z"
    }
   },
   "cell_type": "code",
   "source": [
    "import os\n",
    "os.environ['CUBLAS_WORKSPACE_CONFIG'] = ':4096:8'\n",
    "\n",
    "import random\n",
    "import numpy as np\n",
    "\n",
    "def seed_everything(seed: int = COMMON_CONFIG.SEED) -> None:\n",
    "    os.environ['PYTHONHASHSEED'] = str(seed)\n",
    "    random.seed(seed)\n",
    "    np.random.seed(seed)\n",
    "    print(f\"Using {seed} seed\")\n",
    "\n",
    "# Зафиксируем SEED\n",
    "seed_everything(COMMON_CONFIG.SEED)"
   ],
   "id": "8485da577d69e3ad",
   "outputs": [
    {
     "name": "stdout",
     "output_type": "stream",
     "text": [
      "Using 777 seed\n"
     ]
    }
   ],
   "execution_count": 10
  },
  {
   "metadata": {
    "ExecuteTime": {
     "end_time": "2025-01-26T13:17:08.993337Z",
     "start_time": "2025-01-26T13:17:08.824719Z"
    }
   },
   "cell_type": "code",
   "source": [
    "from file_utils import read_data_from_file\n",
    "from data_utils import train_test_split\n",
    "\n",
    "df = read_data_from_file(COMMON_CONFIG.SYMBOL, COMMON_CONFIG.TIMEFRAME)\n",
    "df"
   ],
   "id": "fd653c6ad561280f",
   "outputs": [
    {
     "data": {
      "text/plain": [
       "                        open     high      low    close        volume\n",
       "date                                                                 \n",
       "2020-01-01 00:00:00   129.16   129.19   128.68   128.87    7769.17336\n",
       "2020-01-01 01:00:00   128.87   130.65   128.78   130.64   11344.65516\n",
       "2020-01-01 02:00:00   130.63   130.98   130.35   130.85    7603.35623\n",
       "2020-01-01 03:00:00   130.85   130.89   129.94   130.20    4968.55433\n",
       "2020-01-01 04:00:00   130.21   130.74   130.15   130.20    3397.90747\n",
       "...                      ...      ...      ...      ...           ...\n",
       "2025-01-19 09:00:00  3221.90  3233.77  3143.02  3226.00  105144.51170\n",
       "2025-01-19 10:00:00  3226.01  3226.89  3172.97  3174.70   51453.00680\n",
       "2025-01-19 11:00:00  3174.70  3188.90  3130.48  3149.97   50955.62760\n",
       "2025-01-19 12:00:00  3149.98  3211.55  3145.00  3205.90   38838.69030\n",
       "2025-01-19 13:00:00  3205.90  3221.60  3202.13  3220.79    8762.74570\n",
       "\n",
       "[44260 rows x 5 columns]"
      ],
      "text/html": [
       "<div>\n",
       "<style scoped>\n",
       "    .dataframe tbody tr th:only-of-type {\n",
       "        vertical-align: middle;\n",
       "    }\n",
       "\n",
       "    .dataframe tbody tr th {\n",
       "        vertical-align: top;\n",
       "    }\n",
       "\n",
       "    .dataframe thead th {\n",
       "        text-align: right;\n",
       "    }\n",
       "</style>\n",
       "<table border=\"1\" class=\"dataframe\">\n",
       "  <thead>\n",
       "    <tr style=\"text-align: right;\">\n",
       "      <th></th>\n",
       "      <th>open</th>\n",
       "      <th>high</th>\n",
       "      <th>low</th>\n",
       "      <th>close</th>\n",
       "      <th>volume</th>\n",
       "    </tr>\n",
       "    <tr>\n",
       "      <th>date</th>\n",
       "      <th></th>\n",
       "      <th></th>\n",
       "      <th></th>\n",
       "      <th></th>\n",
       "      <th></th>\n",
       "    </tr>\n",
       "  </thead>\n",
       "  <tbody>\n",
       "    <tr>\n",
       "      <th>2020-01-01 00:00:00</th>\n",
       "      <td>129.16</td>\n",
       "      <td>129.19</td>\n",
       "      <td>128.68</td>\n",
       "      <td>128.87</td>\n",
       "      <td>7769.17336</td>\n",
       "    </tr>\n",
       "    <tr>\n",
       "      <th>2020-01-01 01:00:00</th>\n",
       "      <td>128.87</td>\n",
       "      <td>130.65</td>\n",
       "      <td>128.78</td>\n",
       "      <td>130.64</td>\n",
       "      <td>11344.65516</td>\n",
       "    </tr>\n",
       "    <tr>\n",
       "      <th>2020-01-01 02:00:00</th>\n",
       "      <td>130.63</td>\n",
       "      <td>130.98</td>\n",
       "      <td>130.35</td>\n",
       "      <td>130.85</td>\n",
       "      <td>7603.35623</td>\n",
       "    </tr>\n",
       "    <tr>\n",
       "      <th>2020-01-01 03:00:00</th>\n",
       "      <td>130.85</td>\n",
       "      <td>130.89</td>\n",
       "      <td>129.94</td>\n",
       "      <td>130.20</td>\n",
       "      <td>4968.55433</td>\n",
       "    </tr>\n",
       "    <tr>\n",
       "      <th>2020-01-01 04:00:00</th>\n",
       "      <td>130.21</td>\n",
       "      <td>130.74</td>\n",
       "      <td>130.15</td>\n",
       "      <td>130.20</td>\n",
       "      <td>3397.90747</td>\n",
       "    </tr>\n",
       "    <tr>\n",
       "      <th>...</th>\n",
       "      <td>...</td>\n",
       "      <td>...</td>\n",
       "      <td>...</td>\n",
       "      <td>...</td>\n",
       "      <td>...</td>\n",
       "    </tr>\n",
       "    <tr>\n",
       "      <th>2025-01-19 09:00:00</th>\n",
       "      <td>3221.90</td>\n",
       "      <td>3233.77</td>\n",
       "      <td>3143.02</td>\n",
       "      <td>3226.00</td>\n",
       "      <td>105144.51170</td>\n",
       "    </tr>\n",
       "    <tr>\n",
       "      <th>2025-01-19 10:00:00</th>\n",
       "      <td>3226.01</td>\n",
       "      <td>3226.89</td>\n",
       "      <td>3172.97</td>\n",
       "      <td>3174.70</td>\n",
       "      <td>51453.00680</td>\n",
       "    </tr>\n",
       "    <tr>\n",
       "      <th>2025-01-19 11:00:00</th>\n",
       "      <td>3174.70</td>\n",
       "      <td>3188.90</td>\n",
       "      <td>3130.48</td>\n",
       "      <td>3149.97</td>\n",
       "      <td>50955.62760</td>\n",
       "    </tr>\n",
       "    <tr>\n",
       "      <th>2025-01-19 12:00:00</th>\n",
       "      <td>3149.98</td>\n",
       "      <td>3211.55</td>\n",
       "      <td>3145.00</td>\n",
       "      <td>3205.90</td>\n",
       "      <td>38838.69030</td>\n",
       "    </tr>\n",
       "    <tr>\n",
       "      <th>2025-01-19 13:00:00</th>\n",
       "      <td>3205.90</td>\n",
       "      <td>3221.60</td>\n",
       "      <td>3202.13</td>\n",
       "      <td>3220.79</td>\n",
       "      <td>8762.74570</td>\n",
       "    </tr>\n",
       "  </tbody>\n",
       "</table>\n",
       "<p>44260 rows × 5 columns</p>\n",
       "</div>"
      ]
     },
     "execution_count": 11,
     "metadata": {},
     "output_type": "execute_result"
    }
   ],
   "execution_count": 11
  },
  {
   "metadata": {
    "ExecuteTime": {
     "end_time": "2025-01-26T13:17:20.532464Z",
     "start_time": "2025-01-26T13:17:17.934968Z"
    }
   },
   "cell_type": "code",
   "source": [
    "!pip install tsfresh -q\n",
    "\n",
    "from tsfresh import extract_features, select_features\n",
    "from tsfresh.utilities.dataframe_functions import roll_time_series\n",
    "from tsfresh.utilities.dataframe_functions import impute"
   ],
   "id": "e9abefa4705b858",
   "outputs": [],
   "execution_count": 12
  },
  {
   "metadata": {},
   "cell_type": "code",
   "outputs": [],
   "execution_count": null,
   "source": [
    "df_for_tsfresh = df.copy()[:10000]\n",
    "df_for_tsfresh"
   ],
   "id": "1d644629995be0ed"
  },
  {
   "metadata": {},
   "cell_type": "code",
   "outputs": [],
   "execution_count": null,
   "source": [
    "df_melted = pd.DataFrame()\n",
    "df_melted[\"timestamp\"] = df_for_tsfresh.index\n",
    "df_melted[\"close\"] = df_for_tsfresh['close'].values\n",
    "df_melted['symbol'] = COMMON_CONFIG.SYMBOL.replace('/', '')\n",
    "df_melted.tail(3)"
   ],
   "id": "98e893d85f141f66"
  },
  {
   "metadata": {},
   "cell_type": "code",
   "outputs": [],
   "execution_count": null,
   "source": [
    "df_rolled = roll_time_series(df_melted, column_id=\"symbol\", column_sort=\"timestamp\",\n",
    "                             min_timeshift=COMMON_CONFIG.TS_FRESH_MIN_WINDOW_SIZE,\n",
    "                             max_timeshift=COMMON_CONFIG.TS_FRESH_MAX_WINDOW_SIZE)\n",
    "df_rolled"
   ],
   "id": "5971dfc9174906c1"
  },
  {
   "metadata": {},
   "cell_type": "code",
   "outputs": [],
   "execution_count": null,
   "source": [
    "X = extract_features(df_rolled.drop(\"symbol\", axis=1), \n",
    "                     column_id=\"id\", column_sort=\"timestamp\", column_value=\"close\", \n",
    "                     impute_function=impute, show_warnings=False)\n",
    "X"
   ],
   "id": "88b5470a993eb239"
  },
  {
   "metadata": {},
   "cell_type": "code",
   "outputs": [],
   "execution_count": null,
   "source": [
    "X = X.set_index(X.index.map(lambda x: x[1]), drop=True)\n",
    "X.index.name = \"last_timestamp\"\n",
    "X"
   ],
   "id": "4014f272af91a76c"
  },
  {
   "metadata": {},
   "cell_type": "code",
   "outputs": [],
   "execution_count": null,
   "source": [
    "y = df_melted.set_index(\"timestamp\").sort_index().close.shift(-1)\n",
    "y.tail(3)"
   ],
   "id": "141e0a9a7a38ea5c"
  },
  {
   "metadata": {},
   "cell_type": "code",
   "outputs": [],
   "execution_count": null,
   "source": [
    "y = y[y.index.isin(X.index)]\n",
    "X = X[X.index.isin(y.index)]"
   ],
   "id": "c2c2dd31305694de"
  },
  {
   "metadata": {},
   "cell_type": "code",
   "outputs": [],
   "execution_count": null,
   "source": "X",
   "id": "d459adfa5cafbcc9"
  },
  {
   "metadata": {},
   "cell_type": "code",
   "outputs": [],
   "execution_count": null,
   "source": "y",
   "id": "c64a9f1375a55d03"
  },
  {
   "metadata": {},
   "cell_type": "code",
   "outputs": [],
   "execution_count": null,
   "source": "X_train, X_val, X_test = train_test_split(X)",
   "id": "9b153a2d97d3c85d"
  },
  {
   "metadata": {},
   "cell_type": "code",
   "outputs": [],
   "execution_count": null,
   "source": "X_train",
   "id": "f454f3ffe54eee3b"
  },
  {
   "metadata": {},
   "cell_type": "code",
   "outputs": [],
   "execution_count": null,
   "source": "X_test",
   "id": "10901d6972e9391a"
  },
  {
   "metadata": {},
   "cell_type": "code",
   "outputs": [],
   "execution_count": null,
   "source": "y_train, y_val, y_test = train_test_split(y)",
   "id": "f2378c8ff414778c"
  },
  {
   "metadata": {},
   "cell_type": "code",
   "outputs": [],
   "execution_count": null,
   "source": "y_train",
   "id": "85297fd2c1706ed0"
  },
  {
   "metadata": {},
   "cell_type": "code",
   "outputs": [],
   "execution_count": null,
   "source": "y_test",
   "id": "39d1f23a8a51b4bc"
  },
  {
   "metadata": {},
   "cell_type": "code",
   "outputs": [],
   "execution_count": null,
   "source": [
    "X_train_selected = select_features(X_train, y_train)\n",
    "X_train_selected"
   ],
   "id": "d2dfe3bf4f921eeb"
  },
  {
   "metadata": {},
   "cell_type": "code",
   "outputs": [],
   "execution_count": null,
   "source": [
    "#X_val_selected = X_val[X_train_selected.columns]\n",
    "#X_val_selected"
   ],
   "id": "ac0417587f206ec5"
  },
  {
   "metadata": {},
   "cell_type": "code",
   "outputs": [],
   "execution_count": null,
   "source": [
    "X_test_selected = X_test[X_train_selected.columns]\n",
    "X_test_selected"
   ],
   "id": "42431d0614fd2476"
  },
  {
   "metadata": {},
   "cell_type": "code",
   "outputs": [],
   "execution_count": null,
   "source": [
    "from sklearn.utils import all_estimators\n",
    "from sklearn import base\n",
    "import sklearn.metrics as metrics \n",
    "\n",
    "from functions import init_regressors,load_data,get_best_regressor,view_performance\n",
    "\n",
    "# Choose whether to look for a best regression model, or use a pre-saved one from a previous run, alternatively you can choose your own regression method.\n",
    "init = 0                  # do not (0) or (1) calculate the best regressor\n",
    "best_regressor = ''       # you can choose a regressor here\n",
    "\n",
    "# Choose to see the best_regressor calculations in verbose mode\n",
    "verbose = 0\n",
    "\n",
    "ticker = COMMON_CONFIG.SYMBOL.replace('/', '')\n",
    "\n",
    "test_start = X.index.max() - pd.DateOffset(months=int(1))\n",
    "test_start"
   ],
   "id": "6b2d65cd773288ce"
  },
  {
   "metadata": {},
   "cell_type": "code",
   "outputs": [],
   "execution_count": null,
   "source": [
    "if init == 1:\n",
    "    init_regressors(ticker)"
   ],
   "id": "ef48e7e39c4e4567"
  },
  {
   "metadata": {},
   "cell_type": "code",
   "outputs": [],
   "execution_count": null,
   "source": [
    "# For cleaner output we suppress warnings that occur during testing of the estimators\n",
    "from warnings import simplefilter\n",
    "from sklearn.exceptions import ConvergenceWarning\n",
    "\n",
    "simplefilter(\"ignore\", category=FutureWarning)\n",
    "simplefilter(\"ignore\", category=RuntimeWarning)\n",
    "simplefilter(\"ignore\", category=ConvergenceWarning)\n",
    "simplefilter(\"ignore\", category=UserWarning)\n",
    "\n",
    "# Check and proceed if init=1 or no best_regressor was found\n",
    "if (best_regressor == '') | init == 1:\n",
    "\n",
    "    # Create a list for regressors with too bad performance\n",
    "    new_removed_regressors = []\n",
    "    removed_regressors = pd.DataFrame()\n",
    "\n",
    "    # Calculate all the estimator metrics\n",
    "    MAE, MSE, RMSE, R2, removed_regressors, new_removed_regressors = get_best_regressor(X_train_selected, X_test,y_train, y, test_start, ticker, verbose)\n",
    "\n",
    "    # Write the results to this file\n",
    "    with open(f'regressor_min_mae_{ticker}.csv', 'w') as f:\n",
    "        f.write(min(MAE, key=MAE.get))\n",
    "\n",
    "    # Define the best estimator by chosing the one with the smallest MAE\n",
    "    best_regressor = min(MAE, key=MAE.get)\n",
    "\n",
    "    # Create a dataframe with the excluded estimators and write it to a file, so we can exclude them in future runs \n",
    "    if new_removed_regressors != 'None':\n",
    "        new_removed_regressors = pd.DataFrame(new_removed_regressors, columns=['name'])\n",
    "        removed_regressors = pd.concat([removed_regressors, new_removed_regressors])\n",
    "        removed_regressors.to_csv(f'removed_regressors_{ticker}.csv', 'a', index=False)\n",
    "\n",
    "# Load the estimator model and store its name\n",
    "estimators = all_estimators()\n",
    "for est_name, estimator in estimators:\n",
    "    if str(best_regressor) == est_name:\n",
    "        best_regressor = estimator()\n",
    "        name = est_name\n",
    "\n",
    "# Print out the five best estimators\n",
    "df_best_regressors = pd.DataFrame.from_dict({'MAE': MAE, 'RMSE': RMSE, 'R2_score': R2})\n",
    "df_best_regressors = df_best_regressors.sort_values(by=\"MAE\", ascending=True).head().reset_index()\n",
    "df_styled = df_best_regressors.style.apply(lambda x: ['background-color: lightgreen' if x.name == 0 else '' for i in x],\n",
    "                                           axis=1)\n",
    "\n",
    "display(df_styled)"
   ],
   "id": "d062c5e3a429bd2a"
  },
  {
   "metadata": {},
   "cell_type": "code",
   "outputs": [],
   "execution_count": null,
   "source": [
    "try:\n",
    "    with open(f'regressor_min_mae_{ticker}.csv') as f:\n",
    "        best_regressor=f.read()\n",
    "        # Load the estimator model and store its name\n",
    "        estimators=all_estimators()\n",
    "        for est_name, estimator in estimators:    \n",
    "            if str(best_regressor)==est_name:\n",
    "                best_regressor=estimator()\n",
    "                name=est_name\n",
    "    print ('Last saved regression method:',best_regressor)\n",
    "except:\n",
    "    pass"
   ],
   "id": "a0796077e0020d2f"
  },
  {
   "metadata": {},
   "cell_type": "code",
   "outputs": [],
   "execution_count": null,
   "source": "best_regressor.fit(X_train_selected, y_train)",
   "id": "d4cdcbcc98dd3ca"
  },
  {
   "metadata": {},
   "cell_type": "code",
   "outputs": [],
   "execution_count": null,
   "source": [
    "y_pred = pd.DataFrame(best_regressor.predict(X_test_selected), index=X_test_selected.index, columns=['predicted_close'])\n",
    "y_pred"
   ],
   "id": "ad295783f40f2dab"
  },
  {
   "metadata": {},
   "cell_type": "code",
   "outputs": [],
   "execution_count": null,
   "source": "y_test.tail(3)",
   "id": "255acf0e26e09c7d"
  },
  {
   "metadata": {},
   "cell_type": "code",
   "outputs": [],
   "execution_count": null,
   "source": "y_pred.tail(3)",
   "id": "97a41eaf13eac22e"
  },
  {
   "metadata": {},
   "cell_type": "code",
   "outputs": [],
   "execution_count": null,
   "source": [
    "from plots import plot\n",
    "\n",
    "all_predictions = y_pred#['predicted_close']\n",
    "all_targets = y_test#['close']\n",
    "plot(all_predictions, all_targets, \"ML model Predictions vs. Actual\")"
   ],
   "id": "836f3321a60108cd"
  },
  {
   "metadata": {},
   "cell_type": "code",
   "outputs": [],
   "execution_count": null,
   "source": "df_best_regressors",
   "id": "7c7e55d6d83c0c99"
  }
 ],
 "metadata": {
  "kernelspec": {
   "display_name": "Python 3",
   "language": "python",
   "name": "python3"
  },
  "language_info": {
   "codemirror_mode": {
    "name": "ipython",
    "version": 2
   },
   "file_extension": ".py",
   "mimetype": "text/x-python",
   "name": "python",
   "nbconvert_exporter": "python",
   "pygments_lexer": "ipython2",
   "version": "2.7.6"
  }
 },
 "nbformat": 4,
 "nbformat_minor": 5
}
